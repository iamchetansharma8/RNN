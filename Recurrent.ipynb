{
 "cells": [
  {
   "cell_type": "code",
   "execution_count": 1,
   "metadata": {},
   "outputs": [
    {
     "name": "stderr",
     "output_type": "stream",
     "text": [
      "/home/chetan/ana/lib/python3.7/importlib/_bootstrap.py:219: RuntimeWarning: numpy.ufunc size changed, may indicate binary incompatibility. Expected 192 from C header, got 216 from PyObject\n",
      "  return f(*args, **kwds)\n"
     ]
    }
   ],
   "source": [
    "import pandas as pd\n",
    "import numpy as np\n",
    "import matplotlib.pyplot as plt\n",
    "%matplotlib inline"
   ]
  },
  {
   "cell_type": "code",
   "execution_count": 3,
   "metadata": {},
   "outputs": [],
   "source": [
    "x=np.linspace(0,50,501)"
   ]
  },
  {
   "cell_type": "code",
   "execution_count": 4,
   "metadata": {},
   "outputs": [],
   "source": [
    "y=np.sin(x)"
   ]
  },
  {
   "cell_type": "code",
   "execution_count": 5,
   "metadata": {},
   "outputs": [
    {
     "data": {
      "text/plain": [
       "[<matplotlib.lines.Line2D at 0x7febc51ebd90>]"
      ]
     },
     "execution_count": 5,
     "metadata": {},
     "output_type": "execute_result"
    },
    {
     "data": {
      "image/png": "[encoded data removed]",
      "text/plain": [
       "<Figure size 432x288 with 1 Axes>"
      ]
     },
     "metadata": {
      "needs_background": "light"
     },
     "output_type": "display_data"
    }
   ],
   "source": [
    "plt.plot(x,y)"
   ]
  },
  {
   "cell_type": "code",
   "execution_count": 6,
   "metadata": {},
   "outputs": [],
   "source": [
    "df=pd.DataFrame(data=y,index=x,columns=['Sine'])"
   ]
  },
  {
   "cell_type": "code",
   "execution_count": 7,
   "metadata": {},
   "outputs": [
    {
     "data": {
      "text/html": [
       "<div>\n",
       "<style scoped>\n",
       "    .dataframe tbody tr th:only-of-type {\n",
       "        vertical-align: middle;\n",
       "    }\n",
       "\n",
       "    .dataframe tbody tr th {\n",
       "        vertical-align: top;\n",
       "    }\n",
       "\n",
       "    .dataframe thead th {\n",
       "        text-align: right;\n",
       "    }\n",
       "</style>\n",
       "<table border=\"1\" class=\"dataframe\">\n",
       "  <thead>\n",
       "    <tr style=\"text-align: right;\">\n",
       "      <th></th>\n",
       "      <th>Sine</th>\n",
       "    </tr>\n",
       "  </thead>\n",
       "  <tbody>\n",
       "    <tr>\n",
       "      <td>0.0</td>\n",
       "      <td>0.000000</td>\n",
       "    </tr>\n",
       "    <tr>\n",
       "      <td>0.1</td>\n",
       "      <td>0.099833</td>\n",
       "    </tr>\n",
       "    <tr>\n",
       "      <td>0.2</td>\n",
       "      <td>0.198669</td>\n",
       "    </tr>\n",
       "    <tr>\n",
       "      <td>0.3</td>\n",
       "      <td>0.295520</td>\n",
       "    </tr>\n",
       "    <tr>\n",
       "      <td>0.4</td>\n",
       "      <td>0.389418</td>\n",
       "    </tr>\n",
       "    <tr>\n",
       "      <td>...</td>\n",
       "      <td>...</td>\n",
       "    </tr>\n",
       "    <tr>\n",
       "      <td>49.6</td>\n",
       "      <td>-0.617439</td>\n",
       "    </tr>\n",
       "    <tr>\n",
       "      <td>49.7</td>\n",
       "      <td>-0.535823</td>\n",
       "    </tr>\n",
       "    <tr>\n",
       "      <td>49.8</td>\n",
       "      <td>-0.448854</td>\n",
       "    </tr>\n",
       "    <tr>\n",
       "      <td>49.9</td>\n",
       "      <td>-0.357400</td>\n",
       "    </tr>\n",
       "    <tr>\n",
       "      <td>50.0</td>\n",
       "      <td>-0.262375</td>\n",
       "    </tr>\n",
       "  </tbody>\n",
       "</table>\n",
       "<p>501 rows × 1 columns</p>\n",
       "</div>"
      ],
      "text/plain": [
       "          Sine\n",
       "0.0   0.000000\n",
       "0.1   0.099833\n",
       "0.2   0.198669\n",
       "0.3   0.295520\n",
       "0.4   0.389418\n",
       "...        ...\n",
       "49.6 -0.617439\n",
       "49.7 -0.535823\n",
       "49.8 -0.448854\n",
       "49.9 -0.357400\n",
       "50.0 -0.262375\n",
       "\n",
       "[501 rows x 1 columns]"
      ]
     },
     "execution_count": 7,
     "metadata": {},
     "output_type": "execute_result"
    }
   ],
   "source": [
    "df"
   ]
  },
  {
   "cell_type": "code",
   "execution_count": 8,
   "metadata": {},
   "outputs": [
    {
     "data": {
      "text/plain": [
       "501"
      ]
     },
     "execution_count": 8,
     "metadata": {},
     "output_type": "execute_result"
    }
   ],
   "source": [
    "len(df)"
   ]
  },
  {
   "cell_type": "code",
   "execution_count": 9,
   "metadata": {},
   "outputs": [],
   "source": [
    "test_percent=0.1"
   ]
  },
  {
   "cell_type": "code",
   "execution_count": 10,
   "metadata": {},
   "outputs": [
    {
     "data": {
      "text/plain": [
       "50.1"
      ]
     },
     "execution_count": 10,
     "metadata": {},
     "output_type": "execute_result"
    }
   ],
   "source": [
    "len(df)*test_percent"
   ]
  },
  {
   "cell_type": "code",
   "execution_count": 11,
   "metadata": {},
   "outputs": [],
   "source": [
    "test_point=np.round(len(df)*test_percent)"
   ]
  },
  {
   "cell_type": "code",
   "execution_count": 12,
   "metadata": {},
   "outputs": [
    {
     "data": {
      "text/plain": [
       "50.0"
      ]
     },
     "execution_count": 12,
     "metadata": {},
     "output_type": "execute_result"
    }
   ],
   "source": [
    "test_point"
   ]
  },
  {
   "cell_type": "code",
   "execution_count": 13,
   "metadata": {},
   "outputs": [],
   "source": [
    "test_ind=int(len(df)-test_point)"
   ]
  },
  {
   "cell_type": "code",
   "execution_count": 14,
   "metadata": {},
   "outputs": [
    {
     "data": {
      "text/plain": [
       "451"
      ]
     },
     "execution_count": 14,
     "metadata": {},
     "output_type": "execute_result"
    }
   ],
   "source": [
    "test_ind"
   ]
  },
  {
   "cell_type": "code",
   "execution_count": 15,
   "metadata": {},
   "outputs": [],
   "source": [
    "train=df.iloc[:test_ind]"
   ]
  },
  {
   "cell_type": "code",
   "execution_count": 16,
   "metadata": {},
   "outputs": [],
   "source": [
    "test=df.iloc[test_ind:]"
   ]
  },
  {
   "cell_type": "code",
   "execution_count": 17,
   "metadata": {},
   "outputs": [
    {
     "data": {
      "text/html": [
       "<div>\n",
       "<style scoped>\n",
       "    .dataframe tbody tr th:only-of-type {\n",
       "        vertical-align: middle;\n",
       "    }\n",
       "\n",
       "    .dataframe tbody tr th {\n",
       "        vertical-align: top;\n",
       "    }\n",
       "\n",
       "    .dataframe thead th {\n",
       "        text-align: right;\n",
       "    }\n",
       "</style>\n",
       "<table border=\"1\" class=\"dataframe\">\n",
       "  <thead>\n",
       "    <tr style=\"text-align: right;\">\n",
       "      <th></th>\n",
       "      <th>Sine</th>\n",
       "    </tr>\n",
       "  </thead>\n",
       "  <tbody>\n",
       "    <tr>\n",
       "      <td>0.0</td>\n",
       "      <td>0.000000</td>\n",
       "    </tr>\n",
       "    <tr>\n",
       "      <td>0.1</td>\n",
       "      <td>0.099833</td>\n",
       "    </tr>\n",
       "    <tr>\n",
       "      <td>0.2</td>\n",
       "      <td>0.198669</td>\n",
       "    </tr>\n",
       "    <tr>\n",
       "      <td>0.3</td>\n",
       "      <td>0.295520</td>\n",
       "    </tr>\n",
       "    <tr>\n",
       "      <td>0.4</td>\n",
       "      <td>0.389418</td>\n",
       "    </tr>\n",
       "    <tr>\n",
       "      <td>...</td>\n",
       "      <td>...</td>\n",
       "    </tr>\n",
       "    <tr>\n",
       "      <td>44.6</td>\n",
       "      <td>0.579164</td>\n",
       "    </tr>\n",
       "    <tr>\n",
       "      <td>44.7</td>\n",
       "      <td>0.657656</td>\n",
       "    </tr>\n",
       "    <tr>\n",
       "      <td>44.8</td>\n",
       "      <td>0.729577</td>\n",
       "    </tr>\n",
       "    <tr>\n",
       "      <td>44.9</td>\n",
       "      <td>0.794208</td>\n",
       "    </tr>\n",
       "    <tr>\n",
       "      <td>45.0</td>\n",
       "      <td>0.850904</td>\n",
       "    </tr>\n",
       "  </tbody>\n",
       "</table>\n",
       "<p>451 rows × 1 columns</p>\n",
       "</div>"
      ],
      "text/plain": [
       "          Sine\n",
       "0.0   0.000000\n",
       "0.1   0.099833\n",
       "0.2   0.198669\n",
       "0.3   0.295520\n",
       "0.4   0.389418\n",
       "...        ...\n",
       "44.6  0.579164\n",
       "44.7  0.657656\n",
       "44.8  0.729577\n",
       "44.9  0.794208\n",
       "45.0  0.850904\n",
       "\n",
       "[451 rows x 1 columns]"
      ]
     },
     "execution_count": 17,
     "metadata": {},
     "output_type": "execute_result"
    }
   ],
   "source": [
    "train"
   ]
  },
  {
   "cell_type": "code",
   "execution_count": 18,
   "metadata": {},
   "outputs": [
    {
     "data": {
      "text/html": [
       "<div>\n",
       "<style scoped>\n",
       "    .dataframe tbody tr th:only-of-type {\n",
       "        vertical-align: middle;\n",
       "    }\n",
       "\n",
       "    .dataframe tbody tr th {\n",
       "        vertical-align: top;\n",
       "    }\n",
       "\n",
       "    .dataframe thead th {\n",
       "        text-align: right;\n",
       "    }\n",
       "</style>\n",
       "<table border=\"1\" class=\"dataframe\">\n",
       "  <thead>\n",
       "    <tr style=\"text-align: right;\">\n",
       "      <th></th>\n",
       "      <th>Sine</th>\n",
       "    </tr>\n",
       "  </thead>\n",
       "  <tbody>\n",
       "    <tr>\n",
       "      <td>45.1</td>\n",
       "      <td>0.899097</td>\n",
       "    </tr>\n",
       "    <tr>\n",
       "      <td>45.2</td>\n",
       "      <td>0.938307</td>\n",
       "    </tr>\n",
       "    <tr>\n",
       "      <td>45.3</td>\n",
       "      <td>0.968142</td>\n",
       "    </tr>\n",
       "    <tr>\n",
       "      <td>45.4</td>\n",
       "      <td>0.988304</td>\n",
       "    </tr>\n",
       "    <tr>\n",
       "      <td>45.5</td>\n",
       "      <td>0.998591</td>\n",
       "    </tr>\n",
       "    <tr>\n",
       "      <td>45.6</td>\n",
       "      <td>0.998900</td>\n",
       "    </tr>\n",
       "    <tr>\n",
       "      <td>45.7</td>\n",
       "      <td>0.989229</td>\n",
       "    </tr>\n",
       "    <tr>\n",
       "      <td>45.8</td>\n",
       "      <td>0.969673</td>\n",
       "    </tr>\n",
       "    <tr>\n",
       "      <td>45.9</td>\n",
       "      <td>0.940429</td>\n",
       "    </tr>\n",
       "    <tr>\n",
       "      <td>46.0</td>\n",
       "      <td>0.901788</td>\n",
       "    </tr>\n",
       "    <tr>\n",
       "      <td>46.1</td>\n",
       "      <td>0.854137</td>\n",
       "    </tr>\n",
       "    <tr>\n",
       "      <td>46.2</td>\n",
       "      <td>0.797952</td>\n",
       "    </tr>\n",
       "    <tr>\n",
       "      <td>46.3</td>\n",
       "      <td>0.733794</td>\n",
       "    </tr>\n",
       "    <tr>\n",
       "      <td>46.4</td>\n",
       "      <td>0.662304</td>\n",
       "    </tr>\n",
       "    <tr>\n",
       "      <td>46.5</td>\n",
       "      <td>0.584197</td>\n",
       "    </tr>\n",
       "    <tr>\n",
       "      <td>46.6</td>\n",
       "      <td>0.500252</td>\n",
       "    </tr>\n",
       "    <tr>\n",
       "      <td>46.7</td>\n",
       "      <td>0.411309</td>\n",
       "    </tr>\n",
       "    <tr>\n",
       "      <td>46.8</td>\n",
       "      <td>0.318257</td>\n",
       "    </tr>\n",
       "    <tr>\n",
       "      <td>46.9</td>\n",
       "      <td>0.222024</td>\n",
       "    </tr>\n",
       "    <tr>\n",
       "      <td>47.0</td>\n",
       "      <td>0.123573</td>\n",
       "    </tr>\n",
       "    <tr>\n",
       "      <td>47.1</td>\n",
       "      <td>0.023888</td>\n",
       "    </tr>\n",
       "    <tr>\n",
       "      <td>47.2</td>\n",
       "      <td>-0.076037</td>\n",
       "    </tr>\n",
       "    <tr>\n",
       "      <td>47.3</td>\n",
       "      <td>-0.175201</td>\n",
       "    </tr>\n",
       "    <tr>\n",
       "      <td>47.4</td>\n",
       "      <td>-0.272615</td>\n",
       "    </tr>\n",
       "    <tr>\n",
       "      <td>47.5</td>\n",
       "      <td>-0.367305</td>\n",
       "    </tr>\n",
       "    <tr>\n",
       "      <td>47.6</td>\n",
       "      <td>-0.458325</td>\n",
       "    </tr>\n",
       "    <tr>\n",
       "      <td>47.7</td>\n",
       "      <td>-0.544766</td>\n",
       "    </tr>\n",
       "    <tr>\n",
       "      <td>47.8</td>\n",
       "      <td>-0.625764</td>\n",
       "    </tr>\n",
       "    <tr>\n",
       "      <td>47.9</td>\n",
       "      <td>-0.700509</td>\n",
       "    </tr>\n",
       "    <tr>\n",
       "      <td>48.0</td>\n",
       "      <td>-0.768255</td>\n",
       "    </tr>\n",
       "    <tr>\n",
       "      <td>48.1</td>\n",
       "      <td>-0.828324</td>\n",
       "    </tr>\n",
       "    <tr>\n",
       "      <td>48.2</td>\n",
       "      <td>-0.880118</td>\n",
       "    </tr>\n",
       "    <tr>\n",
       "      <td>48.3</td>\n",
       "      <td>-0.923117</td>\n",
       "    </tr>\n",
       "    <tr>\n",
       "      <td>48.4</td>\n",
       "      <td>-0.956893</td>\n",
       "    </tr>\n",
       "    <tr>\n",
       "      <td>48.5</td>\n",
       "      <td>-0.981108</td>\n",
       "    </tr>\n",
       "    <tr>\n",
       "      <td>48.6</td>\n",
       "      <td>-0.995521</td>\n",
       "    </tr>\n",
       "    <tr>\n",
       "      <td>48.7</td>\n",
       "      <td>-0.999986</td>\n",
       "    </tr>\n",
       "    <tr>\n",
       "      <td>48.8</td>\n",
       "      <td>-0.994460</td>\n",
       "    </tr>\n",
       "    <tr>\n",
       "      <td>48.9</td>\n",
       "      <td>-0.978997</td>\n",
       "    </tr>\n",
       "    <tr>\n",
       "      <td>49.0</td>\n",
       "      <td>-0.953753</td>\n",
       "    </tr>\n",
       "    <tr>\n",
       "      <td>49.1</td>\n",
       "      <td>-0.918979</td>\n",
       "    </tr>\n",
       "    <tr>\n",
       "      <td>49.2</td>\n",
       "      <td>-0.875023</td>\n",
       "    </tr>\n",
       "    <tr>\n",
       "      <td>49.3</td>\n",
       "      <td>-0.822324</td>\n",
       "    </tr>\n",
       "    <tr>\n",
       "      <td>49.4</td>\n",
       "      <td>-0.761408</td>\n",
       "    </tr>\n",
       "    <tr>\n",
       "      <td>49.5</td>\n",
       "      <td>-0.692885</td>\n",
       "    </tr>\n",
       "    <tr>\n",
       "      <td>49.6</td>\n",
       "      <td>-0.617439</td>\n",
       "    </tr>\n",
       "    <tr>\n",
       "      <td>49.7</td>\n",
       "      <td>-0.535823</td>\n",
       "    </tr>\n",
       "    <tr>\n",
       "      <td>49.8</td>\n",
       "      <td>-0.448854</td>\n",
       "    </tr>\n",
       "    <tr>\n",
       "      <td>49.9</td>\n",
       "      <td>-0.357400</td>\n",
       "    </tr>\n",
       "    <tr>\n",
       "      <td>50.0</td>\n",
       "      <td>-0.262375</td>\n",
       "    </tr>\n",
       "  </tbody>\n",
       "</table>\n",
       "</div>"
      ],
      "text/plain": [
       "          Sine\n",
       "45.1  0.899097\n",
       "45.2  0.938307\n",
       "45.3  0.968142\n",
       "45.4  0.988304\n",
       "45.5  0.998591\n",
       "45.6  0.998900\n",
       "45.7  0.989229\n",
       "45.8  0.969673\n",
       "45.9  0.940429\n",
       "46.0  0.901788\n",
       "46.1  0.854137\n",
       "46.2  0.797952\n",
       "46.3  0.733794\n",
       "46.4  0.662304\n",
       "46.5  0.584197\n",
       "46.6  0.500252\n",
       "46.7  0.411309\n",
       "46.8  0.318257\n",
       "46.9  0.222024\n",
       "47.0  0.123573\n",
       "47.1  0.023888\n",
       "47.2 -0.076037\n",
       "47.3 -0.175201\n",
       "47.4 -0.272615\n",
       "47.5 -0.367305\n",
       "47.6 -0.458325\n",
       "47.7 -0.544766\n",
       "47.8 -0.625764\n",
       "47.9 -0.700509\n",
       "48.0 -0.768255\n",
       "48.1 -0.828324\n",
       "48.2 -0.880118\n",
       "48.3 -0.923117\n",
       "48.4 -0.956893\n",
       "48.5 -0.981108\n",
       "48.6 -0.995521\n",
       "48.7 -0.999986\n",
       "48.8 -0.994460\n",
       "48.9 -0.978997\n",
       "49.0 -0.953753\n",
       "49.1 -0.918979\n",
       "49.2 -0.875023\n",
       "49.3 -0.822324\n",
       "49.4 -0.761408\n",
       "49.5 -0.692885\n",
       "49.6 -0.617439\n",
       "49.7 -0.535823\n",
       "49.8 -0.448854\n",
       "49.9 -0.357400\n",
       "50.0 -0.262375"
      ]
     },
     "execution_count": 18,
     "metadata": {},
     "output_type": "execute_result"
    }
   ],
   "source": [
    "test"
   ]
  },
  {
   "cell_type": "code",
   "execution_count": 19,
   "metadata": {},
   "outputs": [],
   "source": [
    "from sklearn.preprocessing import MinMaxScaler"
   ]
  },
  {
   "cell_type": "code",
   "execution_count": 20,
   "metadata": {},
   "outputs": [],
   "source": [
    "scaler=MinMaxScaler()"
   ]
  },
  {
   "cell_type": "code",
   "execution_count": 21,
   "metadata": {},
   "outputs": [],
   "source": [
    "# This time label is also to be scaled."
   ]
  },
  {
   "cell_type": "code",
   "execution_count": 22,
   "metadata": {},
   "outputs": [
    {
     "data": {
      "text/plain": [
       "MinMaxScaler(copy=True, feature_range=(0, 1))"
      ]
     },
     "execution_count": 22,
     "metadata": {},
     "output_type": "execute_result"
    }
   ],
   "source": [
    "scaler.fit(train)"
   ]
  },
  {
   "cell_type": "code",
   "execution_count": 23,
   "metadata": {},
   "outputs": [],
   "source": [
    "scaled_train=scaler.transform(train)"
   ]
  },
  {
   "cell_type": "code",
   "execution_count": 24,
   "metadata": {},
   "outputs": [],
   "source": [
    "scaled_test=scaler.transform(test)"
   ]
  },
  {
   "cell_type": "code",
   "execution_count": 25,
   "metadata": {},
   "outputs": [],
   "source": [
    "# Batch Generator"
   ]
  },
  {
   "cell_type": "code",
   "execution_count": 26,
   "metadata": {},
   "outputs": [],
   "source": [
    "from tensorflow.keras.preprocessing.sequence import TimeseriesGenerator"
   ]
  },
  {
   "cell_type": "code",
   "execution_count": 27,
   "metadata": {},
   "outputs": [
    {
     "name": "stdout",
     "output_type": "stream",
     "text": [
      "Help on class TimeseriesGenerator in module tensorflow.python.keras.preprocessing.sequence:\n",
      "\n",
      "class TimeseriesGenerator(keras_preprocessing.sequence.TimeseriesGenerator, tensorflow.python.keras.utils.data_utils.Sequence)\n",
      " |  TimeseriesGenerator(data, targets, length, sampling_rate=1, stride=1, start_index=0, end_index=None, shuffle=False, reverse=False, batch_size=128)\n",
      " |  \n",
      " |  Utility class for generating batches of temporal data.\n",
      " |  This class takes in a sequence of data-points gathered at\n",
      " |  equal intervals, along with time series parameters such as\n",
      " |  stride, length of history, etc., to produce batches for\n",
      " |  training/validation.\n",
      " |  # Arguments\n",
      " |      data: Indexable generator (such as list or Numpy array)\n",
      " |          containing consecutive data points (timesteps).\n",
      " |          The data should be at 2D, and axis 0 is expected\n",
      " |          to be the time dimension.\n",
      " |      targets: Targets corresponding to timesteps in `data`.\n",
      " |          It should have same length as `data`.\n",
      " |      length: Length of the output sequences (in number of timesteps).\n",
      " |      sampling_rate: Period between successive individual timesteps\n",
      " |          within sequences. For rate `r`, timesteps\n",
      " |          `data[i]`, `data[i-r]`, ... `data[i - length]`\n",
      " |          are used for create a sample sequence.\n",
      " |      stride: Period between successive output sequences.\n",
      " |          For stride `s`, consecutive output samples would\n",
      " |          be centered around `data[i]`, `data[i+s]`, `data[i+2*s]`, etc.\n",
      " |      start_index: Data points earlier than `start_index` will not be used\n",
      " |          in the output sequences. This is useful to reserve part of the\n",
      " |          data for test or validation.\n",
      " |      end_index: Data points later than `end_index` will not be used\n",
      " |          in the output sequences. This is useful to reserve part of the\n",
      " |          data for test or validation.\n",
      " |      shuffle: Whether to shuffle output samples,\n",
      " |          or instead draw them in chronological order.\n",
      " |      reverse: Boolean: if `true`, timesteps in each output sample will be\n",
      " |          in reverse chronological order.\n",
      " |      batch_size: Number of timeseries samples in each batch\n",
      " |          (except maybe the last one).\n",
      " |  # Returns\n",
      " |      A [Sequence](/utils/#sequence) instance.\n",
      " |  # Examples\n",
      " |  ```python\n",
      " |  from keras.preprocessing.sequence import TimeseriesGenerator\n",
      " |  import numpy as np\n",
      " |  data = np.array([[i] for i in range(50)])\n",
      " |  targets = np.array([[i] for i in range(50)])\n",
      " |  data_gen = TimeseriesGenerator(data, targets,\n",
      " |                                 length=10, sampling_rate=2,\n",
      " |                                 batch_size=2)\n",
      " |  assert len(data_gen) == 20\n",
      " |  batch_0 = data_gen[0]\n",
      " |  x, y = batch_0\n",
      " |  assert np.array_equal(x,\n",
      " |                        np.array([[[0], [2], [4], [6], [8]],\n",
      " |                                  [[1], [3], [5], [7], [9]]]))\n",
      " |  assert np.array_equal(y,\n",
      " |                        np.array([[10], [11]]))\n",
      " |  ```\n",
      " |  \n",
      " |  Method resolution order:\n",
      " |      TimeseriesGenerator\n",
      " |      keras_preprocessing.sequence.TimeseriesGenerator\n",
      " |      tensorflow.python.keras.utils.data_utils.Sequence\n",
      " |      builtins.object\n",
      " |  \n",
      " |  Methods inherited from keras_preprocessing.sequence.TimeseriesGenerator:\n",
      " |  \n",
      " |  __getitem__(self, index)\n",
      " |  \n",
      " |  __init__(self, data, targets, length, sampling_rate=1, stride=1, start_index=0, end_index=None, shuffle=False, reverse=False, batch_size=128)\n",
      " |      Initialize self.  See help(type(self)) for accurate signature.\n",
      " |  \n",
      " |  __len__(self)\n",
      " |  \n",
      " |  get_config(self)\n",
      " |      Returns the TimeseriesGenerator configuration as Python dictionary.\n",
      " |      \n",
      " |      # Returns\n",
      " |          A Python dictionary with the TimeseriesGenerator configuration.\n",
      " |  \n",
      " |  to_json(self, **kwargs)\n",
      " |      Returns a JSON string containing the timeseries generator\n",
      " |      configuration. To load a generator from a JSON string, use\n",
      " |      `keras.preprocessing.sequence.timeseries_generator_from_json(json_string)`.\n",
      " |      \n",
      " |      # Arguments\n",
      " |          **kwargs: Additional keyword arguments\n",
      " |              to be passed to `json.dumps()`.\n",
      " |      \n",
      " |      # Returns\n",
      " |          A JSON string containing the tokenizer configuration.\n",
      " |  \n",
      " |  ----------------------------------------------------------------------\n",
      " |  Data descriptors inherited from keras_preprocessing.sequence.TimeseriesGenerator:\n",
      " |  \n",
      " |  __dict__\n",
      " |      dictionary for instance variables (if defined)\n",
      " |  \n",
      " |  __weakref__\n",
      " |      list of weak references to the object (if defined)\n",
      " |  \n",
      " |  ----------------------------------------------------------------------\n",
      " |  Methods inherited from tensorflow.python.keras.utils.data_utils.Sequence:\n",
      " |  \n",
      " |  __iter__(self)\n",
      " |      Create a generator that iterate over the Sequence.\n",
      " |  \n",
      " |  on_epoch_end(self)\n",
      " |      Method called at the end of every epoch.\n",
      "\n"
     ]
    }
   ],
   "source": [
    "help(TimeseriesGenerator)"
   ]
  },
  {
   "cell_type": "code",
   "execution_count": 44,
   "metadata": {},
   "outputs": [],
   "source": [
    "length = 25\n",
    "batch_size = 1\n",
    "\n",
    "generator=TimeseriesGenerator(scaled_train,scaled_train,length=length,batch_size=batch_size)"
   ]
  },
  {
   "cell_type": "code",
   "execution_count": 45,
   "metadata": {},
   "outputs": [
    {
     "data": {
      "text/plain": [
       "451"
      ]
     },
     "execution_count": 45,
     "metadata": {},
     "output_type": "execute_result"
    }
   ],
   "source": [
    "len(scaled_train)"
   ]
  },
  {
   "cell_type": "code",
   "execution_count": 46,
   "metadata": {},
   "outputs": [
    {
     "data": {
      "text/plain": [
       "426"
      ]
     },
     "execution_count": 46,
     "metadata": {},
     "output_type": "execute_result"
    }
   ],
   "source": [
    "len(generator)"
   ]
  },
  {
   "cell_type": "code",
   "execution_count": 47,
   "metadata": {},
   "outputs": [],
   "source": [
    "X,y=generator[0]"
   ]
  },
  {
   "cell_type": "code",
   "execution_count": 48,
   "metadata": {},
   "outputs": [
    {
     "data": {
      "text/plain": [
       "array([[[0.49999912],\n",
       "        [0.54991622],\n",
       "        [0.59933458],\n",
       "        [0.64776041],\n",
       "        [0.69470985],\n",
       "        [0.73971381],\n",
       "        [0.78232262],\n",
       "        [0.82211054],\n",
       "        [0.85868004],\n",
       "        [0.89166571],\n",
       "        [0.92073798],\n",
       "        [0.94560637],\n",
       "        [0.9660224 ],\n",
       "        [0.98178208],\n",
       "        [0.99272794],\n",
       "        [0.99875061],\n",
       "        [0.99978993],\n",
       "        [0.9958355 ],\n",
       "        [0.98692684],\n",
       "        [0.97315296],\n",
       "        [0.95465148],\n",
       "        [0.93160726],\n",
       "        [0.90425056],\n",
       "        [0.87285471],\n",
       "        [0.83773342]]])"
      ]
     },
     "execution_count": 48,
     "metadata": {},
     "output_type": "execute_result"
    }
   ],
   "source": [
    "X"
   ]
  },
  {
   "cell_type": "code",
   "execution_count": 50,
   "metadata": {},
   "outputs": [
    {
     "data": {
      "text/plain": [
       "array([[0.79923759]])"
      ]
     },
     "execution_count": 50,
     "metadata": {},
     "output_type": "execute_result"
    }
   ],
   "source": [
    "y"
   ]
  },
  {
   "cell_type": "code",
   "execution_count": 51,
   "metadata": {},
   "outputs": [
    {
     "data": {
      "text/plain": [
       "array([[4.99999116e-01],\n",
       "       [5.49916225e-01],\n",
       "       [5.99334579e-01],\n",
       "       [6.47760405e-01],\n",
       "       [6.94709850e-01],\n",
       "       [7.39713809e-01],\n",
       "       [7.82322618e-01],\n",
       "       [8.22110545e-01],\n",
       "       [8.58680040e-01],\n",
       "       [8.91665714e-01],\n",
       "       [9.20737985e-01],\n",
       "       [9.45606372e-01],\n",
       "       [9.66022399e-01],\n",
       "       [9.81782075e-01],\n",
       "       [9.92727935e-01],\n",
       "       [9.98750612e-01],\n",
       "       [9.99789928e-01],\n",
       "       [9.95835500e-01],\n",
       "       [9.86926839e-01],\n",
       "       [9.73152957e-01],\n",
       "       [9.54651478e-01],\n",
       "       [9.31607263e-01],\n",
       "       [9.04250562e-01],\n",
       "       [8.72854714e-01],\n",
       "       [8.37733417e-01],\n",
       "       [7.99237589e-01],\n",
       "       [7.57751870e-01],\n",
       "       [7.13690771e-01],\n",
       "       [6.67494535e-01],\n",
       "       [6.19624741e-01],\n",
       "       [5.70559686e-01],\n",
       "       [5.20789614e-01],\n",
       "       [4.70811810e-01],\n",
       "       [4.21125636e-01],\n",
       "       [3.72227539e-01],\n",
       "       [3.24606094e-01],\n",
       "       [2.78737119e-01],\n",
       "       [2.35078919e-01],\n",
       "       [1.94067715e-01],\n",
       "       [1.56113277e-01],\n",
       "       [1.21594831e-01],\n",
       "       [9.08572769e-02],\n",
       "       [6.42077324e-02],\n",
       "       [4.19124713e-02],\n",
       "       [2.41942605e-02],\n",
       "       [1.12301346e-02],\n",
       "       [3.14962674e-03],\n",
       "       [3.34747619e-05],\n",
       "       [1.91281421e-03],\n",
       "       [8.76886734e-03],\n",
       "       [2.05331307e-02],\n",
       "       [3.70880598e-02],\n",
       "       [5.82682430e-02],\n",
       "       [8.38620552e-02],\n",
       "       [1.13613771e-01],\n",
       "       [1.47226122e-01],\n",
       "       [1.84363264e-01],\n",
       "       [2.24654135e-01],\n",
       "       [2.67696162e-01],\n",
       "       [3.13059283e-01],\n",
       "       [3.60290246e-01],\n",
       "       [4.08917133e-01],\n",
       "       [4.58454081e-01],\n",
       "       [5.08406134e-01],\n",
       "       [5.58274186e-01],\n",
       "       [6.07559973e-01],\n",
       "       [6.55771048e-01],\n",
       "       [7.02425701e-01],\n",
       "       [7.47057774e-01],\n",
       "       [7.89221319e-01],\n",
       "       [8.28495052e-01],\n",
       "       [8.64486561e-01],\n",
       "       [8.96836233e-01],\n",
       "       [9.25220839e-01],\n",
       "       [9.49356770e-01],\n",
       "       [9.69002868e-01],\n",
       "       [9.83962836e-01],\n",
       "       [9.94087198e-01],\n",
       "       [9.99274795e-01],\n",
       "       [9.99473795e-01],\n",
       "       [9.94682209e-01],\n",
       "       [9.84947913e-01],\n",
       "       [9.70368169e-01],\n",
       "       [9.51088653e-01],\n",
       "       [9.27301999e-01],\n",
       "       [8.99245876e-01],\n",
       "       [8.67200612e-01],\n",
       "       [8.31486391e-01],\n",
       "       [7.92460059e-01],\n",
       "       [7.50511555e-01],\n",
       "       [7.06060012e-01],\n",
       "       [6.59549578e-01],\n",
       "       [6.11444967e-01],\n",
       "       [5.62226827e-01],\n",
       "       [5.12386928e-01],\n",
       "       [4.62423254e-01],\n",
       "       [4.12835026e-01],\n",
       "       [3.64117712e-01],\n",
       "       [3.16758081e-01],\n",
       "       [2.71229333e-01],\n",
       "       [2.27986377e-01],\n",
       "       [1.87461283e-01],\n",
       "       [1.50058964e-01],\n",
       "       [1.16153131e-01],\n",
       "       [8.60825596e-02],\n",
       "       [6.01477060e-02],\n",
       "       [3.86077023e-02],\n",
       "       [2.16777691e-02],\n",
       "       [9.52706470e-03],\n",
       "       [2.27699490e-03],\n",
       "       [0.00000000e+00],\n",
       "       [2.71883099e-03],\n",
       "       [1.04063222e-02],\n",
       "       [2.29856628e-02],\n",
       "       [4.03311641e-02],\n",
       "       [6.22695157e-02],\n",
       "       [8.85815167e-02],\n",
       "       [1.19004266e-01],\n",
       "       [1.53233791e-01],\n",
       "       [1.90928079e-01],\n",
       "       [2.31710504e-01],\n",
       "       [2.75173579e-01],\n",
       "       [3.20883037e-01],\n",
       "       [3.68382164e-01],\n",
       "       [4.17196364e-01],\n",
       "       [4.66837901e-01],\n",
       "       [5.16810774e-01],\n",
       "       [5.66615671e-01],\n",
       "       [6.15754957e-01],\n",
       "       [6.63737650e-01],\n",
       "       [7.10084320e-01],\n",
       "       [7.54331889e-01],\n",
       "       [7.96038249e-01],\n",
       "       [8.34786684e-01],\n",
       "       [8.70190032e-01],\n",
       "       [9.01894555e-01],\n",
       "       [9.29583471e-01],\n",
       "       [9.52980122e-01],\n",
       "       [9.71850737e-01],\n",
       "       [9.86006767e-01],\n",
       "       [9.95306769e-01],\n",
       "       [9.99657820e-01],\n",
       "       [9.99016447e-01],\n",
       "       [9.93389058e-01],\n",
       "       [9.82831879e-01],\n",
       "       [9.67450395e-01],\n",
       "       [9.47398292e-01],\n",
       "       [9.22875925e-01],\n",
       "       [8.94128313e-01],\n",
       "       [8.61442691e-01],\n",
       "       [8.25145645e-01],\n",
       "       [7.85599843e-01],\n",
       "       [7.43200412e-01],\n",
       "       [6.98370994e-01],\n",
       "       [6.51559511e-01],\n",
       "       [6.03233685e-01],\n",
       "       [5.53876374e-01],\n",
       "       [5.03980740e-01],\n",
       "       [4.54045322e-01],\n",
       "       [4.04569059e-01],\n",
       "       [3.56046302e-01],\n",
       "       [3.08961874e-01],\n",
       "       [2.63786227e-01],\n",
       "       [2.20970741e-01],\n",
       "       [1.80943214e-01],\n",
       "       [1.44103589e-01],\n",
       "       [1.10819953e-01],\n",
       "       [8.14248677e-02],\n",
       "       [5.62120376e-02],\n",
       "       [3.54333813e-02],\n",
       "       [1.92965122e-02],\n",
       "       [7.96266464e-03],\n",
       "       [1.54508265e-03],\n",
       "       [1.07888605e-04],\n",
       "       [3.66544246e-03],\n",
       "       [1.21821983e-02],\n",
       "       [2.55730595e-02],\n",
       "       [4.37042291e-02],\n",
       "       [6.63945464e-02],\n",
       "       [9.34172971e-02],\n",
       "       [1.24502479e-01],\n",
       "       [1.59339499e-01],\n",
       "       [1.97580278e-01],\n",
       "       [2.38842725e-01],\n",
       "       [2.82714561e-01],\n",
       "       [3.28757432e-01],\n",
       "       [3.76511294e-01],\n",
       "       [4.25499005e-01],\n",
       "       [4.75231097e-01],\n",
       "       [5.25210662e-01],\n",
       "       [5.74938322e-01],\n",
       "       [6.23917214e-01],\n",
       "       [6.71657958e-01],\n",
       "       [7.17683543e-01],\n",
       "       [7.61534097e-01],\n",
       "       [8.02771481e-01],\n",
       "       [8.40983662e-01],\n",
       "       [8.75788839e-01],\n",
       "       [9.06839250e-01],\n",
       "       [9.33824648e-01],\n",
       "       [9.56475405e-01],\n",
       "       [9.74565201e-01],\n",
       "       [9.87913290e-01],\n",
       "       [9.96386302e-01],\n",
       "       [9.99899578e-01],\n",
       "       [9.98418013e-01],\n",
       "       [9.91956411e-01],\n",
       "       [9.80579335e-01],\n",
       "       [9.64400460e-01],\n",
       "       [9.43581440e-01],\n",
       "       [9.18330292e-01],\n",
       "       [8.88899318e-01],\n",
       "       [8.55582581e-01],\n",
       "       [8.18712972e-01],\n",
       "       [7.78658879e-01],\n",
       "       [7.35820510e-01],\n",
       "       [6.90625892e-01],\n",
       "       [6.43526593e-01],\n",
       "       [5.94993216e-01],\n",
       "       [5.45510689e-01],\n",
       "       [4.95573426e-01],\n",
       "       [4.45680382e-01],\n",
       "       [3.96330074e-01],\n",
       "       [3.48015592e-01],\n",
       "       [3.01219679e-01],\n",
       "       [2.56409905e-01],\n",
       "       [2.14033993e-01],\n",
       "       [1.74515351e-01],\n",
       "       [1.38248835e-01],\n",
       "       [1.05596808e-01],\n",
       "       [7.68855182e-02],\n",
       "       [5.24018399e-02],\n",
       "       [3.23904056e-02],\n",
       "       [1.70511630e-02],\n",
       "       [6.53737668e-03],\n",
       "       [9.54096943e-04],\n",
       "       [3.57110073e-04],\n",
       "       [4.75238097e-03],\n",
       "       [1.40959935e-02],\n",
       "       [2.82945895e-02],\n",
       "       [4.72063011e-02],\n",
       "       [7.06421689e-02],\n",
       "       [9.83680294e-02],\n",
       "       [1.30106855e-01],\n",
       "       [1.65541522e-01],\n",
       "       [2.04317978e-01],\n",
       "       [2.46048783e-01],\n",
       "       [2.90316975e-01],\n",
       "       [3.36680242e-01],\n",
       "       [3.84675337e-01],\n",
       "       [4.33822710e-01],\n",
       "       [4.83631295e-01],\n",
       "       [5.33603422e-01],\n",
       "       [5.83239786e-01],\n",
       "       [6.32044436e-01],\n",
       "       [6.79529734e-01],\n",
       "       [7.25221221e-01],\n",
       "       [7.68662363e-01],\n",
       "       [8.09419110e-01],\n",
       "       [8.47084236e-01],\n",
       "       [8.81281401e-01],\n",
       "       [9.11668920e-01],\n",
       "       [9.37943170e-01],\n",
       "       [9.59841629e-01],\n",
       "       [9.77145492e-01],\n",
       "       [9.89681867e-01],\n",
       "       [9.97325494e-01],\n",
       "       [1.00000000e+00],\n",
       "       [9.97678662e-01],\n",
       "       [9.90384675e-01],\n",
       "       [9.78190918e-01],\n",
       "       [9.61219226e-01],\n",
       "       [9.39639175e-01],\n",
       "       [9.13666386e-01],\n",
       "       [8.83560370e-01],\n",
       "       [8.49621938e-01],\n",
       "       [8.12190189e-01],\n",
       "       [7.71639131e-01],\n",
       "       [7.28373935e-01],\n",
       "       [6.82826893e-01],\n",
       "       [6.35453097e-01],\n",
       "       [5.86725890e-01],\n",
       "       [5.37132137e-01],\n",
       "       [4.87167363e-01],\n",
       "       [4.37330800e-01],\n",
       "       [3.88120398e-01],\n",
       "       [3.40027851e-01],\n",
       "       [2.93533684e-01],\n",
       "       [2.49102452e-01],\n",
       "       [2.07178096e-01],\n",
       "       [1.68179511e-01],\n",
       "       [1.32496358e-01],\n",
       "       [1.00485170e-01],\n",
       "       [7.24657944e-02],\n",
       "       [4.87181901e-02],\n",
       "       [2.94796357e-02],\n",
       "       [1.49423563e-02],\n",
       "       [5.25160379e-03],\n",
       "       [5.04204848e-04],\n",
       "       [7.47593943e-04],\n",
       "       [5.97933921e-03],\n",
       "       [1.61471668e-02],\n",
       "       [3.11494831e-02],\n",
       "       [5.08363900e-02],\n",
       "       [7.50111823e-02],\n",
       "       [1.03432314e-01],\n",
       "       [1.35815809e-01],\n",
       "       [1.71838104e-01],\n",
       "       [2.11139276e-01],\n",
       "       [2.53326639e-01],\n",
       "       [2.97978672e-01],\n",
       "       [3.44649227e-01],\n",
       "       [3.92871986e-01],\n",
       "       [4.42165124e-01],\n",
       "       [4.92036121e-01],\n",
       "       [5.41986681e-01],\n",
       "       [5.91517715e-01],\n",
       "       [6.40134325e-01],\n",
       "       [6.87350751e-01],\n",
       "       [7.32695222e-01],\n",
       "       [7.75714669e-01],\n",
       "       [8.15979258e-01],\n",
       "       [8.53086678e-01],\n",
       "       [8.86666164e-01],\n",
       "       [9.16382200e-01],\n",
       "       [9.41937874e-01],\n",
       "       [9.63077843e-01],\n",
       "       [9.79590881e-01],\n",
       "       [9.91311998e-01],\n",
       "       [9.98124078e-01],\n",
       "       [9.99959058e-01],\n",
       "       [9.96798604e-01],\n",
       "       [9.88674294e-01],\n",
       "       [9.75667303e-01],\n",
       "       [9.57907592e-01],\n",
       "       [9.35572612e-01],\n",
       "       [9.08885525e-01],\n",
       "       [8.78112980e-01],\n",
       "       [8.43562446e-01],\n",
       "       [8.05579141e-01],\n",
       "       [7.64542582e-01],\n",
       "       [7.20862792e-01],\n",
       "       [6.74976205e-01],\n",
       "       [6.27341304e-01],\n",
       "       [5.78434043e-01],\n",
       "       [5.28743086e-01],\n",
       "       [4.78764928e-01],\n",
       "       [4.28998936e-01],\n",
       "       [3.79942353e-01],\n",
       "       [3.32085339e-01],\n",
       "       [2.85906063e-01],\n",
       "       [2.41865934e-01],\n",
       "       [2.00404987e-01],\n",
       "       [1.61937485e-01],\n",
       "       [1.26847783e-01],\n",
       "       [9.54864865e-02],\n",
       "       [6.81669460e-02],\n",
       "       [4.51621298e-02],\n",
       "       [2.67018944e-02],\n",
       "       [1.29706884e-02],\n",
       "       [4.10570950e-03],\n",
       "       [1.95533568e-04],\n",
       "       [1.27922981e-03],\n",
       "       [7.34597031e-03],\n",
       "       [1.83351382e-02],\n",
       "       [3.41369333e-02],\n",
       "       [5.45934694e-02],\n",
       "       [7.95003514e-02],\n",
       "       [1.08608718e-01],\n",
       "       [1.41627728e-01],\n",
       "       [1.78227467e-01],\n",
       "       [2.18042242e-01],\n",
       "       [2.60674236e-01],\n",
       "       [3.05697486e-01],\n",
       "       [3.52662133e-01],\n",
       "       [4.01098922e-01],\n",
       "       [4.50523890e-01],\n",
       "       [5.00443198e-01],\n",
       "       [5.50358069e-01],\n",
       "       [5.99769769e-01],\n",
       "       [6.48184595e-01],\n",
       "       [6.95118799e-01],\n",
       "       [7.40103433e-01],\n",
       "       [7.82689024e-01],\n",
       "       [8.22450070e-01],\n",
       "       [8.58989293e-01],\n",
       "       [8.91941605e-01],\n",
       "       [9.20977757e-01],\n",
       "       [9.45807630e-01],\n",
       "       [9.66183132e-01],\n",
       "       [9.81900676e-01],\n",
       "       [9.92803220e-01],\n",
       "       [9.98781828e-01],\n",
       "       [9.99776764e-01],\n",
       "       [9.95778087e-01],\n",
       "       [9.86825751e-01],\n",
       "       [9.73009203e-01],\n",
       "       [9.54466495e-01],\n",
       "       [9.31382900e-01],\n",
       "       [9.03989060e-01],\n",
       "       [8.72558686e-01],\n",
       "       [8.37405820e-01],\n",
       "       [7.98881698e-01],\n",
       "       [7.57371240e-01],\n",
       "       [7.13289205e-01],\n",
       "       [6.67076045e-01],\n",
       "       [6.19193508e-01],\n",
       "       [5.70120021e-01],\n",
       "       [5.20345908e-01],\n",
       "       [4.70368497e-01],\n",
       "       [4.20687145e-01],\n",
       "       [3.71798252e-01],\n",
       "       [3.24190300e-01],\n",
       "       [2.78338972e-01],\n",
       "       [2.34702398e-01],\n",
       "       [1.93716581e-01],\n",
       "       [1.55791039e-01],\n",
       "       [1.21304709e-01],\n",
       "       [9.06021693e-02],\n",
       "       [6.39901882e-02],\n",
       "       [4.17346643e-02],\n",
       "       [2.40579672e-02],\n",
       "       [1.11367167e-02],\n",
       "       [3.10001778e-03],\n",
       "       [2.81703720e-05],\n",
       "       [1.95186738e-03],\n",
       "       [8.85188786e-03],\n",
       "       [2.06592891e-02],\n",
       "       [3.72560954e-02],\n",
       "       [5.84764771e-02],\n",
       "       [8.41084070e-02],\n",
       "       [1.13895779e-01],\n",
       "       [1.47540969e-01],\n",
       "       [1.84707803e-01],\n",
       "       [2.25024924e-01],\n",
       "       [2.68089497e-01],\n",
       "       [3.13471233e-01],\n",
       "       [3.60716695e-01],\n",
       "       [4.09353821e-01],\n",
       "       [4.58896644e-01],\n",
       "       [5.08850150e-01],\n",
       "       [5.58715219e-01],\n",
       "       [6.07993616e-01],\n",
       "       [6.56192968e-01],\n",
       "       [7.02831682e-01],\n",
       "       [7.47443761e-01],\n",
       "       [7.89583454e-01],\n",
       "       [8.28829716e-01],\n",
       "       [8.64790412e-01],\n",
       "       [8.97106234e-01],\n",
       "       [9.25454293e-01]])"
      ]
     },
     "execution_count": 51,
     "metadata": {},
     "output_type": "execute_result"
    }
   ],
   "source": [
    "scaled_train"
   ]
  },
  {
   "cell_type": "code",
   "execution_count": 52,
   "metadata": {},
   "outputs": [
    {
     "data": {
      "text/plain": [
       "<matplotlib.axes._subplots.AxesSubplot at 0x7feb628f6cd0>"
      ]
     },
     "execution_count": 52,
     "metadata": {},
     "output_type": "execute_result"
    },
    {
     "data": {
      "image/png": "[encoded data removed]",
      "text/plain": [
       "<Figure size 432x288 with 1 Axes>"
      ]
     },
     "metadata": {
      "needs_background": "light"
     },
     "output_type": "display_data"
    }
   ],
   "source": [
    "df.plot()"
   ]
  },
  {
   "cell_type": "code",
   "execution_count": 53,
   "metadata": {},
   "outputs": [],
   "source": [
    "length=50\n",
    "batch_size=1\n",
    "\n",
    "generator=TimeseriesGenerator(scaled_train,scaled_train,length=length,batch_size=batch_size)"
   ]
  },
  {
   "cell_type": "code",
   "execution_count": 54,
   "metadata": {},
   "outputs": [],
   "source": [
    "from tensorflow.keras.models import Sequential"
   ]
  },
  {
   "cell_type": "code",
   "execution_count": 55,
   "metadata": {},
   "outputs": [],
   "source": [
    "from tensorflow.keras.layers import Dense,SimpleRNN,LSTM"
   ]
  },
  {
   "cell_type": "code",
   "execution_count": 56,
   "metadata": {},
   "outputs": [],
   "source": [
    "n_features=1"
   ]
  },
  {
   "cell_type": "code",
   "execution_count": 58,
   "metadata": {},
   "outputs": [],
   "source": [
    "model=Sequential()\n",
    "\n",
    "model.add(SimpleRNN(50,input_shape=(length,n_features)))\n",
    "\n",
    "model.add(Dense(1))\n",
    "\n",
    "model.compile(optimizer='adam',loss='mse')"
   ]
  },
  {
   "cell_type": "code",
   "execution_count": 59,
   "metadata": {},
   "outputs": [
    {
     "name": "stdout",
     "output_type": "stream",
     "text": [
      "Model: \"sequential_1\"\n",
      "_________________________________________________________________\n",
      "Layer (type)                 Output Shape              Param #   \n",
      "=================================================================\n",
      "simple_rnn (SimpleRNN)       (None, 50)                2600      \n",
      "_________________________________________________________________\n",
      "dense (Dense)                (None, 1)                 51        \n",
      "=================================================================\n",
      "Total params: 2,651\n",
      "Trainable params: 2,651\n",
      "Non-trainable params: 0\n",
      "_________________________________________________________________\n"
     ]
    }
   ],
   "source": [
    "model.summary()"
   ]
  },
  {
   "cell_type": "code",
   "execution_count": 60,
   "metadata": {},
   "outputs": [
    {
     "name": "stdout",
     "output_type": "stream",
     "text": [
      "WARNING:tensorflow:From <ipython-input-60-063492f5aede>:1: Model.fit_generator (from tensorflow.python.keras.engine.training) is deprecated and will be removed in a future version.\n",
      "Instructions for updating:\n",
      "Please use Model.fit, which supports generators.\n",
      "WARNING:tensorflow:sample_weight modes were coerced from\n",
      "  ...\n",
      "    to  \n",
      "  ['...']\n",
      "Train for 401 steps\n",
      "Epoch 1/5\n",
      "401/401 [==============================] - 11s 27ms/step - loss: 0.0062\n",
      "Epoch 2/5\n",
      "401/401 [==============================] - 11s 27ms/step - loss: 9.0520e-04\n",
      "Epoch 3/5\n",
      "401/401 [==============================] - 10s 24ms/step - loss: 8.7757e-06\n",
      "Epoch 4/5\n",
      "401/401 [==============================] - 9s 22ms/step - loss: 1.2595e-05\n",
      "Epoch 5/5\n",
      "401/401 [==============================] - 9s 22ms/step - loss: 1.8897e-05\n"
     ]
    },
    {
     "data": {
      "text/plain": [
       "<tensorflow.python.keras.callbacks.History at 0x7feb602c1890>"
      ]
     },
     "execution_count": 60,
     "metadata": {},
     "output_type": "execute_result"
    }
   ],
   "source": [
    "model.fit_generator(generator,epochs=5)"
   ]
  },
  {
   "cell_type": "code",
   "execution_count": 61,
   "metadata": {},
   "outputs": [],
   "source": [
    "losses=pd.DataFrame(model.history.history)"
   ]
  },
  {
   "cell_type": "code",
   "execution_count": 62,
   "metadata": {},
   "outputs": [
    {
     "data": {
      "text/plain": [
       "<matplotlib.axes._subplots.AxesSubplot at 0x7feb5864b810>"
      ]
     },
     "execution_count": 62,
     "metadata": {},
     "output_type": "execute_result"
    },
    {
     "data": {
      "image/png": "[encoded data removed]",
      "text/plain": [
       "<Figure size 432x288 with 1 Axes>"
      ]
     },
     "metadata": {
      "needs_background": "light"
     },
     "output_type": "display_data"
    }
   ],
   "source": [
    "losses.plot()"
   ]
  },
  {
   "cell_type": "code",
   "execution_count": 63,
   "metadata": {},
   "outputs": [],
   "source": [
    "first_eval_batch=scaled_train[-length:]"
   ]
  },
  {
   "cell_type": "code",
   "execution_count": 64,
   "metadata": {},
   "outputs": [
    {
     "data": {
      "text/plain": [
       "array([[8.37405820e-01],\n",
       "       [7.98881698e-01],\n",
       "       [7.57371240e-01],\n",
       "       [7.13289205e-01],\n",
       "       [6.67076045e-01],\n",
       "       [6.19193508e-01],\n",
       "       [5.70120021e-01],\n",
       "       [5.20345908e-01],\n",
       "       [4.70368497e-01],\n",
       "       [4.20687145e-01],\n",
       "       [3.71798252e-01],\n",
       "       [3.24190300e-01],\n",
       "       [2.78338972e-01],\n",
       "       [2.34702398e-01],\n",
       "       [1.93716581e-01],\n",
       "       [1.55791039e-01],\n",
       "       [1.21304709e-01],\n",
       "       [9.06021693e-02],\n",
       "       [6.39901882e-02],\n",
       "       [4.17346643e-02],\n",
       "       [2.40579672e-02],\n",
       "       [1.11367167e-02],\n",
       "       [3.10001778e-03],\n",
       "       [2.81703720e-05],\n",
       "       [1.95186738e-03],\n",
       "       [8.85188786e-03],\n",
       "       [2.06592891e-02],\n",
       "       [3.72560954e-02],\n",
       "       [5.84764771e-02],\n",
       "       [8.41084070e-02],\n",
       "       [1.13895779e-01],\n",
       "       [1.47540969e-01],\n",
       "       [1.84707803e-01],\n",
       "       [2.25024924e-01],\n",
       "       [2.68089497e-01],\n",
       "       [3.13471233e-01],\n",
       "       [3.60716695e-01],\n",
       "       [4.09353821e-01],\n",
       "       [4.58896644e-01],\n",
       "       [5.08850150e-01],\n",
       "       [5.58715219e-01],\n",
       "       [6.07993616e-01],\n",
       "       [6.56192968e-01],\n",
       "       [7.02831682e-01],\n",
       "       [7.47443761e-01],\n",
       "       [7.89583454e-01],\n",
       "       [8.28829716e-01],\n",
       "       [8.64790412e-01],\n",
       "       [8.97106234e-01],\n",
       "       [9.25454293e-01]])"
      ]
     },
     "execution_count": 64,
     "metadata": {},
     "output_type": "execute_result"
    }
   ],
   "source": [
    "first_eval_batch"
   ]
  },
  {
   "cell_type": "code",
   "execution_count": null,
   "metadata": {},
   "outputs": [],
   "source": []
  }
 ],
 "metadata": {
  "kernelspec": {
   "display_name": "Python 3",
   "language": "python",
   "name": "python3"
  },
  "language_info": {
   "codemirror_mode": {
    "name": "ipython",
    "version": 3
   },
   "file_extension": ".py",
   "mimetype": "text/x-python",
   "name": "python",
   "nbconvert_exporter": "python",
   "pygments_lexer": "ipython3",
   "version": "3.7.4"
  }
 },
 "nbformat": 4,
 "nbformat_minor": 2
}
